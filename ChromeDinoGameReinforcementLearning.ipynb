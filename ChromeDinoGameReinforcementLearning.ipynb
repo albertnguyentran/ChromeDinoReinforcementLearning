{
 "cells": [
  {
   "cell_type": "markdown",
   "id": "3c7554ee-5f29-4c53-a003-6f1cafc74cba",
   "metadata": {},
   "source": [
    "# 1. Import Dependencies"
   ]
  },
  {
   "cell_type": "code",
   "execution_count": null,
   "id": "fa10df42",
   "metadata": {},
   "outputs": [],
   "source": [
    "!pip3 install torch torchvision torchaudio --extra-index-url https://download.pytorch.org/whl/cu113"
   ]
  },
  {
   "cell_type": "code",
   "execution_count": null,
   "id": "807aea7e",
   "metadata": {},
   "outputs": [],
   "source": [
    "!pip install stable-baselines3[extra] protobuf==3.20.*"
   ]
  },
  {
   "cell_type": "code",
   "execution_count": null,
   "id": "467ccec6",
   "metadata": {},
   "outputs": [],
   "source": [
    "!pip install mss pydirectinput pytesseract ipywidgets"
   ]
  },
  {
   "cell_type": "code",
   "execution_count": null,
   "id": "c70b6dbb",
   "metadata": {},
   "outputs": [],
   "source": [
    "from mss import mss\n",
    "import pydirectinput\n",
    "import cv2\n",
    "import numpy as np\n",
    "import pytesseract\n",
    "from matplotlib import pyplot as plt\n",
    "import time\n",
    "from gym import Env\n",
    "from gym.spaces import Box, Discrete"
   ]
  },
  {
   "cell_type": "markdown",
   "id": "6c21175d-bfe6-4bae-8b68-6994e3e06057",
   "metadata": {},
   "source": [
    "# 2. Build Environment"
   ]
  },
  {
   "cell_type": "markdown",
   "id": "14d5fbf8-18e4-49ef-83e4-366dd716e8c5",
   "metadata": {},
   "source": [
    "2.1 Create Environment"
   ]
  },
  {
   "cell_type": "code",
   "execution_count": 71,
   "id": "b3127912-776c-4664-8e63-5d1d111a331b",
   "metadata": {},
   "outputs": [],
   "source": [
    "class WebGame(Env):\n",
    "    # Setup the environment action and observation shapes\n",
    "    def __init__(self):\n",
    "        # Subclass model\n",
    "        super().__init__()\n",
    "        # Setup spaces (Gives a multi dimensional array as return value --> 1 batch, 83 high 100 wide, box can take many shapes, images, timeseries data etc. data type is uint8 which is small and compressed\n",
    "        self.observation_space = Box(low=0, high=255, shape=(1,83,100), dtype=np.uint8)\n",
    "        # Will have three actions, jump, down, no operation\n",
    "        self.action_space = Discrete(3)\n",
    "        # Define extraction parameters for the game, mss is a screenshot module\n",
    "        self.cap = mss()\n",
    "        self.game_location = {\n",
    "            'top': 500, \n",
    "            'left': 0, \n",
    "            'width': 840, \n",
    "            'height': 700\n",
    "        }\n",
    "        self.done_location = {\n",
    "            'top': 550, \n",
    "            'left': 790, \n",
    "            'width': 960, \n",
    "            'height': 160\n",
    "        }\n",
    "    \n",
    "    # What is called to do something in the game\n",
    "    def step(self, action):\n",
    "        # Action key - 0 = space, 1 = down, 2 = no operation\n",
    "        actions = {\n",
    "            0: 'space',\n",
    "            1: 'down',\n",
    "            2: 'no_op'\n",
    "        }\n",
    "        \n",
    "        if action != 2:\n",
    "            pydirectinput.press(actions[action])\n",
    "        \n",
    "        # Check if game is over\n",
    "        done, done_cap = self.get_done()\n",
    "        # Get next observation\n",
    "        new_observation = self.get_observation()\n",
    "        \n",
    "        # Reward (get a point for every frame alive)\n",
    "        reward = 1\n",
    "        # Info dictionary (stable baselines expects this\n",
    "        info = {}\n",
    "        \n",
    "        return new_observation, reward, done, info\n",
    "        \n",
    "    # Visualize the game\n",
    "    def render(self):\n",
    "        cv2.imshow('Game', np.array(self.cap.grab(self.game_location))[:,:,:3])\n",
    "        \n",
    "        # Give time to render\n",
    "        if cv2.waitKey(1) & 0xFF == ord('q'):\n",
    "            self.close()\n",
    "    \n",
    "    # Restarting the game\n",
    "    def reset(self):\n",
    "        time.sleep(1)\n",
    "        # Doesn't really matter where you click\n",
    "        pydirectinput.click(x=250, y=250)\n",
    "        pydirectinput.press('space')\n",
    "        return self.get_observation()\n",
    "    \n",
    "    # Close down the observation\n",
    "    def close(self):\n",
    "        cv2.destroyAllWindows()\n",
    "    \n",
    "    # Get the part of the game that we want\n",
    "    def get_observation(self):\n",
    "        # Get screen capture of game, can specify channels and datatype at the end\n",
    "        raw = np.array(self.cap.grab(self.game_location))[:,:,:3].astype(np.uint8)\n",
    "        # Grayscale\n",
    "        gray = cv2.cvtColor(raw, cv2.COLOR_BGR2GRAY)\n",
    "        # Resize\n",
    "        resized = cv2.resize(gray, (100, 83))\n",
    "        # Add channels first\n",
    "        channel = np.reshape(resized, (1, 83, 100))\n",
    "        \n",
    "        return channel\n",
    "    \n",
    "    # Get the game finished text\n",
    "    def get_done(self):\n",
    "        # Get done screen\n",
    "        done_cap = np.array(self.cap.grab(self.done_location))[:,:,:3].astype(np.uint8)\n",
    "        # Valid game finished text (font makes the M look kind of like an H)\n",
    "        # pytesseract.image_to_string(done_cap) gives GAME OY ER\\n' that's why we don't parse the entire text\n",
    "        done_strings = ['GAME', 'GAHE']\n",
    "        \n",
    "        done = False\n",
    "        res = pytesseract.image_to_string(done_cap)[:4]\n",
    "        if res in done_strings:\n",
    "            done = True\n",
    "\n",
    "        return done, done_cap\n",
    "        "
   ]
  },
  {
   "cell_type": "code",
   "execution_count": 72,
   "id": "94d98531-b3c9-4641-ae4a-e17b25fad86d",
   "metadata": {},
   "outputs": [],
   "source": [
    "env = WebGame()"
   ]
  },
  {
   "cell_type": "code",
   "execution_count": 73,
   "id": "57213a62-01ce-4dac-98c0-9c1c6299bc11",
   "metadata": {},
   "outputs": [
    {
     "data": {
      "text/plain": [
       "array([[[33, 33, 33, ..., 33, 33, 33],\n",
       "        [33, 33, 33, ..., 33, 33, 33],\n",
       "        [33, 33, 33, ..., 33, 33, 33],\n",
       "        ...,\n",
       "        [33, 33, 33, ..., 33, 33, 33],\n",
       "        [33, 33, 33, ..., 33, 33, 33],\n",
       "        [33, 33, 33, ..., 33, 33, 33]]], dtype=uint8)"
      ]
     },
     "execution_count": 73,
     "metadata": {},
     "output_type": "execute_result"
    }
   ],
   "source": [
    "env.reset()"
   ]
  },
  {
   "cell_type": "code",
   "execution_count": 77,
   "id": "66a1d73f-2b6d-4ea6-9807-b9465ffc1ae2",
   "metadata": {},
   "outputs": [],
   "source": [
    "env.close()"
   ]
  },
  {
   "cell_type": "code",
   "execution_count": 75,
   "id": "42c3cc58-7f5a-4982-9950-baf7a79ec49c",
   "metadata": {},
   "outputs": [],
   "source": [
    "env.render()"
   ]
  },
  {
   "cell_type": "code",
   "execution_count": 76,
   "id": "67a7cc0c-de9b-4c64-b554-01842783c9aa",
   "metadata": {},
   "outputs": [
    {
     "data": {
      "text/plain": [
       "<matplotlib.image.AxesImage at 0x1e36f66cfd0>"
      ]
     },
     "execution_count": 76,
     "metadata": {},
     "output_type": "execute_result"
    },
    {
     "data": {
      "image/png": "[encoded data removed]",
      "text/plain": [
       "<Figure size 640x480 with 1 Axes>"
      ]
     },
     "metadata": {},
     "output_type": "display_data"
    }
   ],
   "source": [
    "plt.imshow(cv2.cvtColor(env.get_observation()[0], cv2.COLOR_BGR2RGB))"
   ]
  },
  {
   "cell_type": "code",
   "execution_count": 78,
   "id": "09ee831e-48b1-4a3a-b775-d16cf2e47282",
   "metadata": {},
   "outputs": [],
   "source": [
    "done, done_capture = env.get_done()"
   ]
  },
  {
   "cell_type": "code",
   "execution_count": 79,
   "id": "17798f6e-e715-4ee1-bf64-2cab5e515e4f",
   "metadata": {},
   "outputs": [
    {
     "data": {
      "text/plain": [
       "True"
      ]
     },
     "execution_count": 79,
     "metadata": {},
     "output_type": "execute_result"
    }
   ],
   "source": [
    "done"
   ]
  },
  {
   "cell_type": "code",
   "execution_count": 80,
   "id": "198964af-f7f3-434b-a9da-7d5172762af0",
   "metadata": {},
   "outputs": [
    {
     "data": {
      "text/plain": [
       "<matplotlib.image.AxesImage at 0x1e36fa474c0>"
      ]
     },
     "execution_count": 80,
     "metadata": {},
     "output_type": "execute_result"
    },
    {
     "data": {
      "image/png": "[encoded data removed]",
      "text/plain": [
       "<Figure size 640x480 with 1 Axes>"
      ]
     },
     "metadata": {},
     "output_type": "display_data"
    }
   ],
   "source": [
    "plt.imshow(done_capture)"
   ]
  },
  {
   "cell_type": "code",
   "execution_count": 55,
   "id": "4df4443a-bd37-437b-84ce-9b21a4f037c8",
   "metadata": {},
   "outputs": [],
   "source": [
    "env.action_space.sample()"
   ]
  },
  {
   "cell_type": "code",
   "execution_count": 56,
   "id": "3bc924f6-098c-4ac7-9df2-52a06c374ccc",
   "metadata": {},
   "outputs": [],
   "source": [
    "plt.imshow(env.observation_space.sample()[0])"
   ]
  },
  {
   "cell_type": "markdown",
   "id": "5c1376ff-3c13-4036-8ab3-af7e49a82375",
   "metadata": {},
   "source": [
    "2.2 Test Environment"
   ]
  },
  {
   "cell_type": "code",
   "execution_count": 57,
   "id": "f0e3086a-26a8-4e01-ba4b-8ddd862f5ead",
   "metadata": {},
   "outputs": [],
   "source": [
    "env = WebGame()"
   ]
  },
  {
   "cell_type": "code",
   "execution_count": 58,
   "id": "bd619157-55da-439b-97f2-b75091c53245",
   "metadata": {},
   "outputs": [],
   "source": [
    "obs = env.get_observation()"
   ]
  },
  {
   "cell_type": "code",
   "execution_count": 59,
   "id": "2b2696d2-8ec3-4202-abc5-1834f52b0389",
   "metadata": {},
   "outputs": [],
   "source": [
    "plt.imshow(cv2.cvtColor(obs[0], cv2.COLOR_BGR2RGB))"
   ]
  },
  {
   "cell_type": "code",
   "execution_count": 60,
   "id": "9b55d496-cb77-4221-acac-faca979ba31d",
   "metadata": {},
   "outputs": [],
   "source": [
    "done, done_capture = env.get_done()"
   ]
  },
  {
   "cell_type": "code",
   "execution_count": 61,
   "id": "723d50c5-352a-49cb-841a-5b9a1b4d7333",
   "metadata": {},
   "outputs": [],
   "source": [
    "print(done)"
   ]
  },
  {
   "cell_type": "code",
   "execution_count": 62,
   "id": "469d6e79-ca2e-43ee-86f4-87c9cd4aeb6b",
   "metadata": {},
   "outputs": [],
   "source": [
    "plt.imshow(done_capture)"
   ]
  },
  {
   "cell_type": "code",
   "execution_count": null,
   "id": "8631adf6-6c3d-404b-9e18-66814f66581c",
   "metadata": {},
   "outputs": [],
   "source": [
    "# Test 10 times\n",
    "for episode in range(10):\n",
    "    obs = env.reset()\n",
    "    done = False\n",
    "    total_reward = 0\n",
    "    \n",
    "    while not done:\n",
    "        obs, reward, done, info = env.step(env.action_space.sample())\n",
    "        total_reward += reward\n",
    "    \n",
    "    print(f'Total Reward for episode {episode} is {total_reward}')"
   ]
  },
  {
   "cell_type": "markdown",
   "id": "bcc4e735-0f8c-4f52-985a-fca18a430d77",
   "metadata": {},
   "source": [
    "# 3. Train Model"
   ]
  },
  {
   "cell_type": "markdown",
   "id": "797db541-26a4-4c08-8cec-491e02897f57",
   "metadata": {},
   "source": [
    "3.1 Create Callback"
   ]
  },
  {
   "cell_type": "code",
   "execution_count": 63,
   "id": "2dc861ef-74e2-455e-a939-d069b97b511b",
   "metadata": {},
   "outputs": [],
   "source": [
    "# Import os for file path management\n",
    "import os\n",
    "# Import base callback for saving models\n",
    "from stable_baselines3.common.callbacks import BaseCallback\n",
    "# Check environment\n",
    "from stable_baselines3.common import env_checker"
   ]
  },
  {
   "cell_type": "code",
   "execution_count": 64,
   "id": "b787925d-f515-42aa-aefb-c269471c89e0",
   "metadata": {},
   "outputs": [],
   "source": [
    "# Check that environment is ok\n",
    "env_checker.check_env(env)"
   ]
  },
  {
   "cell_type": "code",
   "execution_count": null,
   "id": "644cd85e-f5b2-4e05-a53b-d5aa235cdccd",
   "metadata": {},
   "outputs": [],
   "source": [
    "# Save model in train directory\n",
    "class TrainAndLogCallback(BaseCallback):\n",
    "    \n",
    "    def __init__(self,check_freq, save_path, verbose=1):\n",
    "        super(TrainAndLogCallback, self).__init__(verbose)\n",
    "        self.check_freq = check_freq\n",
    "        self.save_path = save_path\n",
    "        \n",
    "    def _init_callback(self):\n",
    "        if self.save_path is not None:\n",
    "            os.makedirs(self.save_path, exist_ok=True)\n",
    "        \n",
    "    def _on_step(self):\n",
    "        if self.n_calls % self.check_freq == 0:\n",
    "            model_path = os.path.join(self.save_path, 'best_model_{}'.format(self.n_calls))\n",
    "        \n",
    "        return True"
   ]
  },
  {
   "cell_type": "code",
   "execution_count": 65,
   "id": "2713b2d7-2d19-427a-8244-c8a38cac7bd9",
   "metadata": {},
   "outputs": [],
   "source": [
    "CHECKPOINT_DIR = './train/'\n",
    "LOG_DIR =  './logs/'"
   ]
  },
  {
   "cell_type": "code",
   "execution_count": 66,
   "id": "e99a7c3a-bcfd-4dbc-919c-d31651c4efc8",
   "metadata": {},
   "outputs": [],
   "source": [
    "# Save every 1000 steps (1000 frames)\n",
    "callback = TrainAndLogCallback(check_freq=1000, save_path=CHECKPOINT_DIR)"
   ]
  },
  {
   "cell_type": "markdown",
   "id": "deccfbb5-5e2b-4e4d-bdd9-17d5c65aad99",
   "metadata": {},
   "source": [
    "3.2 Build DQN and train"
   ]
  },
  {
   "cell_type": "code",
   "execution_count": 67,
   "id": "9dccd854-138f-4d13-918a-3b675be4545e",
   "metadata": {},
   "outputs": [],
   "source": [
    "# Deep Q Network builds on Fitted Q-iteration (FQI) and makes use of different tricks to stablize the learning with neural networks: it uses a replay buffer, a target network and gradient clipping\n",
    "from stable_baselines3 import DQN"
   ]
  },
  {
   "cell_type": "code",
   "execution_count": 69,
   "id": "48827de0-be91-4351-8ba4-0ce93d7dbdfd",
   "metadata": {},
   "outputs": [],
   "source": [
    "# Create the DQN model\n",
    "# We use CnnPolicy because we are passing through a captured observation\n",
    "# Optimize buffer size based on RAM\n",
    "# Can optimize when the learning starts as well (lower to get the model to start training faster)\n",
    "model = DQN('CnnPolicy', env, tensorboard_log=LOG_DIR, verbose=1, buffer_size=400000, learning_starts=1000)"
   ]
  },
  {
   "cell_type": "code",
   "execution_count": 70,
   "id": "6839a4a2-7878-4920-b009-e172f8653c16",
   "metadata": {},
   "outputs": [],
   "source": [
    "# Start training\n",
    "# Higher training time will give smoother results\n",
    "model.learn(total_timesteps=6000, callback=callback)"
   ]
  },
  {
   "cell_type": "markdown",
   "id": "13c35fa2-4572-4cc9-92ab-9d022a6c296e",
   "metadata": {},
   "source": [
    "# 4. Test Model"
   ]
  },
  {
   "cell_type": "code",
   "execution_count": 44,
   "id": "e7270082-cef4-47ce-b472-ad4e264200b7",
   "metadata": {},
   "outputs": [],
   "source": [
    "# model = DQN.load(os.path.join(dir, folder_name))"
   ]
  },
  {
   "cell_type": "code",
   "execution_count": null,
   "id": "8a70f6b7-5e6d-4a03-8995-4f4c90781e95",
   "metadata": {},
   "outputs": [],
   "source": [
    "for episode in range(10):\n",
    "    obs = env.reset()\n",
    "    done = False\n",
    "    total_reward = 0\n",
    "    \n",
    "    while not done:\n",
    "        action, _ = model.predict(obs)\n",
    "        obs, reward, done, info = env.step(int(action))\n",
    "        time.sleep(0.01)\n",
    "        total_reward += reward\n",
    "    \n",
    "    print(f'Total reward for episode {episode} is {total_reward}')\n",
    "    time.sleep(2)"
   ]
  }
 ],
 "metadata": {
  "kernelspec": {
   "display_name": "chromedinoreinforcementlearning",
   "language": "python",
   "name": "chromedinoreinforcementlearning"
  },
  "language_info": {
   "codemirror_mode": {
    "name": "ipython",
    "version": 3
   },
   "file_extension": ".py",
   "mimetype": "text/x-python",
   "name": "python",
   "nbconvert_exporter": "python",
   "pygments_lexer": "ipython3",
   "version": "3.9.13"
  }
 },
 "nbformat": 4,
 "nbformat_minor": 5
}
